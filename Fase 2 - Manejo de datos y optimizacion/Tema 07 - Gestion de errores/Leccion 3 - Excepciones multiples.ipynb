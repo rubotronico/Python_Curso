{
 "cells": [
  {
   "cell_type": "code",
   "execution_count": 2,
   "metadata": {
    "collapsed": false
   },
   "outputs": [
    {
     "name": "stdout",
     "output_type": "stream",
     "text": [
      "Introduce un número: 9\n",
      "TypeError\n"
     ]
    }
   ],
   "source": [
    "try:\n",
    "    n=input(\"Introduce un número: \")\n",
    "    5/n\n",
    "except Exception as e:\n",
    "    print (type(e).__name__)"
   ]
  },
  {
   "cell_type": "code",
   "execution_count": 8,
   "metadata": {
    "collapsed": false
   },
   "outputs": [
    {
     "name": "stdout",
     "output_type": "stream",
     "text": [
      "Introduce un número: 0\n",
      "No se puede dividir por cero, prueba otro número.\n"
     ]
    }
   ],
   "source": [
    "try:\n",
    "    n= float(input(\"Introduce un número: \"))\n",
    "    5/n\n",
    "except TypeError:\n",
    "    print (\"No se puede dividir el número por una cadena.\")\n",
    "except ValueError:\n",
    "    print (\"Debes introducir una cadena que sea un número.\")\n",
    "except ZeroDivisionError:\n",
    "    print (\"No se puede dividir por cero, prueba otro número.\")\n",
    "except Exception as e: #Permite sacar el tipo de error.\n",
    "    print (type(e).__name__)"
   ]
  },
  {
   "cell_type": "code",
   "execution_count": null,
   "metadata": {
    "collapsed": true
   },
   "outputs": [],
   "source": []
  }
 ],
 "metadata": {
  "kernelspec": {
   "display_name": "Python 3",
   "language": "python",
   "name": "python3"
  },
  "language_info": {
   "codemirror_mode": {
    "name": "ipython",
    "version": 3
   },
   "file_extension": ".py",
   "mimetype": "text/x-python",
   "name": "python",
   "nbconvert_exporter": "python",
   "pygments_lexer": "ipython3",
   "version": "3.6.0"
  }
 },
 "nbformat": 4,
 "nbformat_minor": 0
}
