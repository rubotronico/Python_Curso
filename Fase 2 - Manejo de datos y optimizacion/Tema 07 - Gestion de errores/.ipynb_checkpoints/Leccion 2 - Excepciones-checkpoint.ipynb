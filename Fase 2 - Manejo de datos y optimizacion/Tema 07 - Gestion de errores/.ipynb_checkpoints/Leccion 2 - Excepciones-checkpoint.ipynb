{
 "cells": [
  {
   "cell_type": "code",
   "execution_count": 1,
   "metadata": {
    "collapsed": false
   },
   "outputs": [
    {
     "name": "stdout",
     "output_type": "stream",
     "text": [
      "Introduce un número: aaa\n"
     ]
    },
    {
     "ename": "ValueError",
     "evalue": "could not convert string to float: 'aaa'",
     "output_type": "error",
     "traceback": [
      "\u001b[0;31m---------------------------------------------------------------------------\u001b[0m",
      "\u001b[0;31mValueError\u001b[0m                                Traceback (most recent call last)",
      "\u001b[0;32m<ipython-input-1-ba608d4b62e5>\u001b[0m in \u001b[0;36m<module>\u001b[0;34m()\u001b[0m\n\u001b[0;32m----> 1\u001b[0;31m \u001b[0mn\u001b[0m \u001b[1;33m=\u001b[0m \u001b[0mfloat\u001b[0m\u001b[1;33m(\u001b[0m\u001b[0minput\u001b[0m\u001b[1;33m(\u001b[0m\u001b[1;34m\"Introduce un número: \"\u001b[0m\u001b[1;33m)\u001b[0m\u001b[1;33m)\u001b[0m\u001b[1;33m\u001b[0m\u001b[0m\n\u001b[0m\u001b[1;32m      2\u001b[0m \u001b[0mm\u001b[0m\u001b[1;33m=\u001b[0m\u001b[1;36m4\u001b[0m\u001b[1;33m\u001b[0m\u001b[0m\n\u001b[1;32m      3\u001b[0m \u001b[0mprint\u001b[0m\u001b[1;33m(\u001b[0m\u001b[1;34m\"{}/{}={}\"\u001b[0m\u001b[1;33m.\u001b[0m\u001b[0mformat\u001b[0m\u001b[1;33m(\u001b[0m\u001b[0mn\u001b[0m\u001b[1;33m,\u001b[0m\u001b[0mm\u001b[0m\u001b[1;33m,\u001b[0m\u001b[0mn\u001b[0m\u001b[1;33m/\u001b[0m\u001b[0mm\u001b[0m\u001b[1;33m)\u001b[0m\u001b[1;33m)\u001b[0m\u001b[1;33m\u001b[0m\u001b[0m\n",
      "\u001b[0;31mValueError\u001b[0m: could not convert string to float: 'aaa'"
     ]
    }
   ],
   "source": [
    "n = float(input(\"Introduce un número: \"))\n",
    "m=4\n",
    "print(\"{}/{}={}\".format(n,m,n/m))"
   ]
  },
  {
   "cell_type": "code",
   "execution_count": 2,
   "metadata": {
    "collapsed": false
   },
   "outputs": [
    {
     "name": "stdout",
     "output_type": "stream",
     "text": [
      "Introduce un número: aaa\n",
      "Ha ocurrido un error, introduce bien el número.\n"
     ]
    }
   ],
   "source": [
    "try:\n",
    "    n = float(input(\"Introduce un número: \"))\n",
    "    m=4\n",
    "    print(\"{}/{}={}\".format(n,m,n/m))\n",
    "except:\n",
    "    print (\"Ha ocurrido un error, introduce bien el número.\")"
   ]
  },
  {
   "cell_type": "code",
   "execution_count": 4,
   "metadata": {
    "collapsed": false
   },
   "outputs": [
    {
     "name": "stdout",
     "output_type": "stream",
     "text": [
      "Introduce un número: aaa\n",
      "Ha ocurrido un error, introduce bien el número.\n",
      "Introduce un número: aaa\n",
      "Ha ocurrido un error, introduce bien el número.\n",
      "Introduce un número: sd\n",
      "Ha ocurrido un error, introduce bien el número.\n",
      "Introduce un número: f\n",
      "Ha ocurrido un error, introduce bien el número.\n",
      "Introduce un número: 5.6\n",
      "5.6/4=1.4\n"
     ]
    }
   ],
   "source": [
    "while (True):\n",
    "    try:\n",
    "        n = float(input(\"Introduce un número: \"))\n",
    "        m=4\n",
    "        print(\"{}/{}={}\".format(n,m,n/m))\n",
    "        break #Importante romper la iteración si todo sale bien.\n",
    "    except:\n",
    "        print (\"Ha ocurrido un error, introduce bien el número.\")"
   ]
  },
  {
   "cell_type": "code",
   "execution_count": 5,
   "metadata": {
    "collapsed": false
   },
   "outputs": [
    {
     "name": "stdout",
     "output_type": "stream",
     "text": [
      "Introduce un número: adsf\n",
      "Ha ocurrido un error, introduce bien el número.\n",
      "Introduce un número: 3\n",
      "3.0/4=0.75\n",
      "Todo ha funcionado correctamente.\n"
     ]
    }
   ],
   "source": [
    "while (True):\n",
    "    try:\n",
    "        n = float(input(\"Introduce un número: \"))\n",
    "        m=4\n",
    "        print(\"{}/{}={}\".format(n,m,n/m))\n",
    "    except:\n",
    "        print (\"Ha ocurrido un error, introduce bien el número.\")\n",
    "    else:\n",
    "        print (\"Todo ha funcionado correctamente.\")\n",
    "        break"
   ]
  },
  {
   "cell_type": "code",
   "execution_count": 6,
   "metadata": {
    "collapsed": false
   },
   "outputs": [
    {
     "name": "stdout",
     "output_type": "stream",
     "text": [
      "Introduce un número: ada\n",
      "Ha ocurrido un error, introduce bien el número.\n",
      "Fin de la iteración.\n",
      "Introduce un número: gggg\n",
      "Ha ocurrido un error, introduce bien el número.\n",
      "Fin de la iteración.\n",
      "Introduce un número: 9\n",
      "9.0/4=2.25\n",
      "Todo ha funcionado correctamente.\n",
      "Fin de la iteración.\n"
     ]
    }
   ],
   "source": [
    "while (True):\n",
    "    try:\n",
    "        n = float(input(\"Introduce un número: \"))\n",
    "        m=4\n",
    "        print(\"{}/{}={}\".format(n,m,n/m))\n",
    "    except:\n",
    "        print (\"Ha ocurrido un error, introduce bien el número.\")\n",
    "    else:\n",
    "        print (\"Todo ha funcionado correctamente.\")\n",
    "        break\n",
    "    finally:\n",
    "        print (\"Fin de la iteración.\")"
   ]
  },
  {
   "cell_type": "code",
   "execution_count": null,
   "metadata": {
    "collapsed": true
   },
   "outputs": [],
   "source": []
  }
 ],
 "metadata": {
  "kernelspec": {
   "display_name": "Python 3",
   "language": "python",
   "name": "python3"
  },
  "language_info": {
   "codemirror_mode": {
    "name": "ipython",
    "version": 3
   },
   "file_extension": ".py",
   "mimetype": "text/x-python",
   "name": "python",
   "nbconvert_exporter": "python",
   "pygments_lexer": "ipython3",
   "version": "3.6.0"
  }
 },
 "nbformat": 4,
 "nbformat_minor": 0
}
