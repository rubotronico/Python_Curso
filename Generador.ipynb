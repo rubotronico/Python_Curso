{
 "cells": [
  {
   "cell_type": "code",
   "execution_count": 13,
   "metadata": {
    "collapsed": false
   },
   "outputs": [
    {
     "name": "stdout",
     "output_type": "stream",
     "text": [
      "¿Cuántos números quieres generar? [1-20]: 20\n",
      "¿Cómo quieres redondear los números?\n",
      "[1] Al alza\n",
      "[2] A la baja\n",
      "[3] Normal\n",
      "Ha elegido: 3\n",
      "Número\t59.48307251191011\tRedondeo\t59\n",
      "Número\t46.54985842326346\tRedondeo\t47\n",
      "Número\t0.7661874199559215\tRedondeo\t1\n",
      "Número\t9.000337413428694\tRedondeo\t9\n",
      "Número\t74.40039602956293\tRedondeo\t74\n",
      "Número\t4.6400156962382315\tRedondeo\t5\n",
      "Número\t18.088005490673176\tRedondeo\t18\n",
      "Número\t23.38502863224984\tRedondeo\t23\n",
      "Número\t25.181270987397276\tRedondeo\t25\n",
      "Número\t2.724076762178429\tRedondeo\t3\n",
      "Número\t15.577665414292818\tRedondeo\t16\n",
      "Número\t55.78932362906164\tRedondeo\t56\n",
      "Número\t15.283803201464119\tRedondeo\t15\n",
      "Número\t23.649119630680772\tRedondeo\t24\n",
      "Número\t72.53869263227855\tRedondeo\t73\n",
      "Número\t56.352507082823266\tRedondeo\t56\n",
      "Número\t94.59739580668163\tRedondeo\t95\n",
      "Número\t52.98161252986142\tRedondeo\t53\n",
      "Número\t81.75770646144245\tRedondeo\t82\n",
      "Número\t58.86202071022423\tRedondeo\t59\n",
      "[59, 47, 1, 9, 74, 5, 18, 23, 25, 3, 16, 56, 15, 24, 73, 56, 95, 53, 82, 59]\n"
     ]
    }
   ],
   "source": [
    "import random\n",
    "import math\n",
    "\n",
    "def leer_numero(ini, fin, mensaje):\n",
    "    while True:\n",
    "        try:\n",
    "            n = int(input(mensaje))\n",
    "        except:\n",
    "            print (\"Valor incorrecto. Introducir un número entre {} y {}.\".format (ini,fin))\n",
    "        else:\n",
    "            if n>=ini and n<=fin:\n",
    "                break\n",
    "            else:\n",
    "                print (\"Valor incorrecto. Introducir un número entre {} y {}.\".format (ini,fin))\n",
    "    return n\n",
    "\n",
    "def generador():\n",
    "    numeros = leer_numero (1, 20, \"¿Cuántos números quieres generar? [1-20]: \")\n",
    "    modo = leer_numero (1,3, \"¿Cómo quieres redondear los números?\\n[1] Al alza\\n[2] A la baja\\n[3] Normal\\nHa elegido: \")\n",
    "    lista = []\n",
    "    i = 0\n",
    "    while i < numeros:\n",
    "        n = random.uniform(0,100)\n",
    "        i+=1\n",
    "        if modo == 1:\n",
    "            nr = math.ceil(n)\n",
    "        if modo == 2:\n",
    "            nr = math.floor (n)\n",
    "        if modo == 3:\n",
    "            nr = round (n)\n",
    "        print (\"Número\\t{}\\tRedondeo\\t{}\".format (n,nr))\n",
    "        lista.append (nr)\n",
    "        \n",
    "    print(lista)\n",
    "    \n",
    "generador()\n",
    "\n"
   ]
  },
  {
   "cell_type": "code",
   "execution_count": null,
   "metadata": {
    "collapsed": true
   },
   "outputs": [],
   "source": []
  }
 ],
 "metadata": {
  "kernelspec": {
   "display_name": "Python 3",
   "language": "python",
   "name": "python3"
  },
  "language_info": {
   "codemirror_mode": {
    "name": "ipython",
    "version": 3
   },
   "file_extension": ".py",
   "mimetype": "text/x-python",
   "name": "python",
   "nbconvert_exporter": "python",
   "pygments_lexer": "ipython3",
   "version": "3.6.0"
  }
 },
 "nbformat": 4,
 "nbformat_minor": 2
}
