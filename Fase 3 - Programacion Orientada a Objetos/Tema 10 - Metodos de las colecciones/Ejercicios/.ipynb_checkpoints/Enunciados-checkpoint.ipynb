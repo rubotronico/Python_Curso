{
 "cells": [
  {
   "cell_type": "markdown",
   "metadata": {},
   "source": [
    "# Tema 10: Métodos de las colecciones (Enunciados)\n",
    "*Nota: Estos ejercicios son optativos para hacer al final de la unidad y están pensados para apoyar tu aprendizaje*."
   ]
  },
  {
   "cell_type": "markdown",
   "metadata": {},
   "source": [
    "**1) Utilizando todo lo que sabes sobre cadenas, listas, sus métodos internos... Transforma este texto:**\n",
    "\n",
    "```\n",
    "un día que el viento soplaba con fuerza#mira como se mueve aquella banderola -dijo un monje#lo que se mueve es el viento -respondió otro monje#ni las banderolas ni el viento, lo que se mueve son vuestras mentes -dijo el maestro\n",
    "```\n",
    "**En este otro:**\n",
    "\n",
    "```\n",
    "Un día que el viento soplaba con fuerza...\n",
    "- Mira como se mueve aquella banderola -dijo un monje.\n",
    "- Lo que se mueve es el viento -respondió otro monje.\n",
    "- Ni las banderolas ni el viento, lo que se mueve son vuestras mentes -dijo el maestro.\n",
    "```\n",
    "**Lo único prohibido es modificar directamente el texto**"
   ]
  },
  {
   "cell_type": "code",
   "execution_count": 13,
   "metadata": {
    "collapsed": false
   },
   "outputs": [
    {
     "name": "stdout",
     "output_type": "stream",
     "text": [
      "Un día que el viento soplaba con fuerza...\n",
      "- Mira como se mueve aquella banderola -dijo un monje.\n",
      "- Lo que se mueve es el viento -respondió otro monje.\n",
      "- Ni las banderolas ni el viento, lo que se mueve son vuestras mentes -dijo el maestro.\n"
     ]
    }
   ],
   "source": [
    "# Completa el ejercicio aquí\n",
    "texto = \"un día que el viento soplaba con fuerza#mira como se mueve aquella banderola -dijo un monje#lo que se mueve es el viento -respondió otro monje#ni las banderolas ni el viento, lo que se mueve son vuestras mentes -dijo el maestro\"\n",
    "texto = texto.split(\"#\")\n",
    "t1 = texto.pop(0)\n",
    "t2 = texto.pop(0)\n",
    "t3 = texto.pop(0)\n",
    "t4 = texto.pop(0)\n",
    "t1 = t1.capitalize() + \"...\"\n",
    "t2 = \"- \" + t2.capitalize() + \".\"\n",
    "t3 = \"- \" + t3.capitalize() + \".\"\n",
    "t4 = \"- \" + t4.capitalize() + \".\"\n",
    "print(t1)\n",
    "print(t2)\n",
    "print(t3)\n",
    "print(t4)"
   ]
  },
  {
   "cell_type": "markdown",
   "metadata": {},
   "source": [
    "**2) Crea una función modificar() que a partir de una lista de números realice las siguientes tareas sin modificar la original:**\n",
    "\n",
    "* Borrar los elementos duplicados\n",
    "* Ordenar la lista de mayor a menor\n",
    "* Eliminar todos los números impares\n",
    "* Realizar una suma de todos los números que quedan\n",
    "* Añadir como primer elemento de la lista la suma realizada\n",
    "* Devolver la lista modificada\n",
    "* Finalmente, después de ejecutar la función, comprueba que la suma de todos los números a partir del segundo, concuerda con el primer número de la lista, tal que así:\n",
    "```python\n",
    "nueva_lista = modificar(lista)\n",
    "print( nueva_lista[0] == sum(nueva_lista[1:]) )\n",
    "> True\n",
    "```\n",
    "\n",
    "*Nota: La función sum(lista) devuelve una suma de los elementos de una lista*"
   ]
  },
  {
   "cell_type": "code",
   "execution_count": 8,
   "metadata": {
    "collapsed": false
   },
   "outputs": [
    {
     "name": "stdout",
     "output_type": "stream",
     "text": [
      "Ordenado después del primer bucle for: [29, 24, 23, 17, 16, 12, 5, -5, -12]\n",
      "29 \tImpar\n",
      "24 \tPar\n",
      "23 \tImpar\n",
      "17 \tImpar\n",
      "16 \tPar\n",
      "12 \tPar\n",
      "5 \tImpar\n",
      "-5 \tImpar\n",
      "-12 \tPar\n",
      "auxList:  [24, 16, 12, -12]\n",
      "[29, 24, 23, 17, 16, 12, 5, -5, -12]\n",
      "[29, -5, -12, 17, 5, 24, 5, 12, 23, 16, 12, 5, -12, 17]\n"
     ]
    }
   ],
   "source": [
    "# Completa el ejercicio aquí\n",
    "lista = [29, -5, -12, 17, 5, 24, 5, 12, 23, 16, 12, 5, -12, 17]\n",
    "\n",
    "# Copio la lista usando list()\n",
    "lista2 = list(lista)\n",
    "\n",
    "def modificar(listado):    \n",
    "    \n",
    "    for l in listado:\n",
    "        if listado.count(l) == 1:\n",
    "            pass\n",
    "        else:\n",
    "            listado.remove(l)\n",
    "    \n",
    "    listado.sort(reverse=True)\n",
    "    \n",
    "    print(\"Ordenado después del primer bucle for:\", listado)\n",
    "    \n",
    "    auxList = list(listado)\n",
    "    \n",
    "    for m in listado:\n",
    "        if m%2 != 0:\n",
    "            print(m,\"\\tImpar\")            \n",
    "            #listado.remove(m)\n",
    "            auxList.remove(m)            \n",
    "        else:\n",
    "            print(m,\"\\tPar\")\n",
    "            #print(listado)\n",
    "    print('auxList: ', auxList)\n",
    "            \n",
    "modificar(lista2)\n",
    "print(lista2)\n",
    "print(lista)\n",
    "        \n",
    "        \n"
   ]
  },
  {
   "cell_type": "code",
   "execution_count": null,
   "metadata": {
    "collapsed": true
   },
   "outputs": [],
   "source": []
  }
 ],
 "metadata": {
  "anaconda-cloud": {},
  "kernelspec": {
   "display_name": "Python 3",
   "language": "python",
   "name": "python3"
  },
  "language_info": {
   "codemirror_mode": {
    "name": "ipython",
    "version": 3
   },
   "file_extension": ".py",
   "mimetype": "text/x-python",
   "name": "python",
   "nbconvert_exporter": "python",
   "pygments_lexer": "ipython3",
   "version": "3.6.0"
  }
 },
 "nbformat": 4,
 "nbformat_minor": 0
}
