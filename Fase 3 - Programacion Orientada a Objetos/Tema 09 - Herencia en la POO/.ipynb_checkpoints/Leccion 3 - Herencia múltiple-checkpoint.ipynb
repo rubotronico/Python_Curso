{
 "cells": [
  {
   "cell_type": "code",
   "execution_count": 4,
   "metadata": {
    "collapsed": false
   },
   "outputs": [
    {
     "name": "stdout",
     "output_type": "stream",
     "text": [
      "Soy de clase B.\n"
     ]
    }
   ],
   "source": [
    "class A:\n",
    "    def __init__ (self):\n",
    "        print (\"Soy de clase A.\")\n",
    "    def a(self):\n",
    "        print (\"Este método lo heredo de A\")\n",
    "\n",
    "class B:\n",
    "    def __init__ (self):\n",
    "        print (\"Soy de clase B.\")\n",
    "    def b(self):\n",
    "        print (\"Este método lo heredo de B\")\n",
    "\n",
    "class C (B,A):\n",
    "    def c(self):\n",
    "        print (\"Este método es de C\")\n",
    "\n",
    "C = C()"
   ]
  },
  {
   "cell_type": "code",
   "execution_count": 5,
   "metadata": {
    "collapsed": false
   },
   "outputs": [
    {
     "name": "stdout",
     "output_type": "stream",
     "text": [
      "Este método lo heredo de A\n"
     ]
    }
   ],
   "source": [
    "C.a()"
   ]
  },
  {
   "cell_type": "code",
   "execution_count": 6,
   "metadata": {
    "collapsed": false
   },
   "outputs": [
    {
     "name": "stdout",
     "output_type": "stream",
     "text": [
      "Este método lo heredo de B\n"
     ]
    }
   ],
   "source": [
    "C.b()"
   ]
  },
  {
   "cell_type": "code",
   "execution_count": 7,
   "metadata": {
    "collapsed": false
   },
   "outputs": [
    {
     "name": "stdout",
     "output_type": "stream",
     "text": [
      "Este método es de C\n"
     ]
    }
   ],
   "source": [
    "C.c()"
   ]
  },
  {
   "cell_type": "code",
   "execution_count": null,
   "metadata": {
    "collapsed": true
   },
   "outputs": [],
   "source": []
  }
 ],
 "metadata": {
  "kernelspec": {
   "display_name": "Python 3",
   "language": "python",
   "name": "python3"
  },
  "language_info": {
   "codemirror_mode": {
    "name": "ipython",
    "version": 3
   },
   "file_extension": ".py",
   "mimetype": "text/x-python",
   "name": "python",
   "nbconvert_exporter": "python",
   "pygments_lexer": "ipython3",
   "version": "3.6.0"
  }
 },
 "nbformat": 4,
 "nbformat_minor": 0
}
