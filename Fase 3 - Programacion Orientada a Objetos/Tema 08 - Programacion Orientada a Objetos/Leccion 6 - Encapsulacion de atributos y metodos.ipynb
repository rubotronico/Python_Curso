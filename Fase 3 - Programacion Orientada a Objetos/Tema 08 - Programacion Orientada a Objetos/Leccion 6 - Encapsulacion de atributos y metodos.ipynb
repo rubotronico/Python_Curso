{
 "cells": [
  {
   "cell_type": "code",
   "execution_count": 1,
   "metadata": {
    "collapsed": true
   },
   "outputs": [],
   "source": [
    "class Ejemplo:\n",
    "    __atributo_privado = \"Soy un atributo incalcanzable desde fuera\"\n",
    "    \n",
    "    def __metodo_privado(self):\n",
    "        print(\"Soy un método incalcanzable desde fuera\")"
   ]
  },
  {
   "cell_type": "code",
   "execution_count": 2,
   "metadata": {
    "collapsed": true
   },
   "outputs": [],
   "source": [
    "e = Ejemplo ()"
   ]
  },
  {
   "cell_type": "code",
   "execution_count": 3,
   "metadata": {
    "collapsed": false
   },
   "outputs": [
    {
     "ename": "AttributeError",
     "evalue": "'Ejemplo' object has no attribute '__atributo_privado'",
     "output_type": "error",
     "traceback": [
      "\u001b[0;31m---------------------------------------------------------------------------\u001b[0m",
      "\u001b[0;31mAttributeError\u001b[0m                            Traceback (most recent call last)",
      "\u001b[0;32m<ipython-input-3-73328dd71c23>\u001b[0m in \u001b[0;36m<module>\u001b[0;34m()\u001b[0m\n\u001b[0;32m----> 1\u001b[0;31m \u001b[0me\u001b[0m\u001b[1;33m.\u001b[0m\u001b[0m__atributo_privado\u001b[0m\u001b[1;33m\u001b[0m\u001b[0m\n\u001b[0m",
      "\u001b[0;31mAttributeError\u001b[0m: 'Ejemplo' object has no attribute '__atributo_privado'"
     ]
    }
   ],
   "source": [
    "e.__atributo_privado"
   ]
  },
  {
   "cell_type": "code",
   "execution_count": 5,
   "metadata": {
    "collapsed": false
   },
   "outputs": [
    {
     "ename": "AttributeError",
     "evalue": "'Ejemplo' object has no attribute '__metodo_privado'",
     "output_type": "error",
     "traceback": [
      "\u001b[0;31m---------------------------------------------------------------------------\u001b[0m",
      "\u001b[0;31mAttributeError\u001b[0m                            Traceback (most recent call last)",
      "\u001b[0;32m<ipython-input-5-164c67db4a9b>\u001b[0m in \u001b[0;36m<module>\u001b[0;34m()\u001b[0m\n\u001b[0;32m----> 1\u001b[0;31m \u001b[0me\u001b[0m\u001b[1;33m.\u001b[0m\u001b[0m__metodo_privado\u001b[0m\u001b[1;33m(\u001b[0m\u001b[1;33m)\u001b[0m\u001b[1;33m\u001b[0m\u001b[0m\n\u001b[0m",
      "\u001b[0;31mAttributeError\u001b[0m: 'Ejemplo' object has no attribute '__metodo_privado'"
     ]
    }
   ],
   "source": [
    "e.__metodo_privado()"
   ]
  },
  {
   "cell_type": "code",
   "execution_count": 6,
   "metadata": {
    "collapsed": true
   },
   "outputs": [],
   "source": [
    "class Ejemplo:\n",
    "    __atributo_privado = \"Soy un atributo incalcanzable desde fuera\"\n",
    "    \n",
    "    def __metodo_privado(self):\n",
    "        print(\"Soy un método incalcanzable desde fuera\")\n",
    "        \n",
    "    def atributo_publico(self):\n",
    "        return self.__atributo_privado\n",
    "    "
   ]
  },
  {
   "cell_type": "code",
   "execution_count": 7,
   "metadata": {
    "collapsed": true
   },
   "outputs": [],
   "source": [
    "e = Ejemplo ()"
   ]
  },
  {
   "cell_type": "code",
   "execution_count": 8,
   "metadata": {
    "collapsed": false
   },
   "outputs": [
    {
     "data": {
      "text/plain": [
       "'Soy un atributo incalcanzable desde fuera'"
      ]
     },
     "execution_count": 8,
     "metadata": {},
     "output_type": "execute_result"
    }
   ],
   "source": [
    "e.atributo_publico()"
   ]
  },
  {
   "cell_type": "code",
   "execution_count": 13,
   "metadata": {
    "collapsed": true
   },
   "outputs": [],
   "source": [
    "class Ejemplo:\n",
    "    __atributo_privado = \"Soy un atributo incalcanzable desde fuera\"\n",
    "    \n",
    "    def __metodo_privado(self):\n",
    "        print(\"Soy un método incalcanzable desde fuera\")\n",
    "        \n",
    "    def metodo_publico(self):\n",
    "        return self.__metodo_privado()"
   ]
  },
  {
   "cell_type": "code",
   "execution_count": 14,
   "metadata": {
    "collapsed": true
   },
   "outputs": [],
   "source": [
    "e = Ejemplo ()"
   ]
  },
  {
   "cell_type": "code",
   "execution_count": 15,
   "metadata": {
    "collapsed": false
   },
   "outputs": [
    {
     "name": "stdout",
     "output_type": "stream",
     "text": [
      "Soy un método incalcanzable desde fuera\n"
     ]
    }
   ],
   "source": [
    "e.metodo_publico()"
   ]
  },
  {
   "cell_type": "code",
   "execution_count": null,
   "metadata": {
    "collapsed": true
   },
   "outputs": [],
   "source": []
  }
 ],
 "metadata": {
  "kernelspec": {
   "display_name": "Python 3",
   "language": "python",
   "name": "python3"
  },
  "language_info": {
   "codemirror_mode": {
    "name": "ipython",
    "version": 3
   },
   "file_extension": ".py",
   "mimetype": "text/x-python",
   "name": "python",
   "nbconvert_exporter": "python",
   "pygments_lexer": "ipython3",
   "version": "3.6.0"
  }
 },
 "nbformat": 4,
 "nbformat_minor": 0
}
