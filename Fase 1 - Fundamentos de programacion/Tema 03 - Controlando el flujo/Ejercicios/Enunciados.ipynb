{
 "cells": [
  {
   "cell_type": "markdown",
   "metadata": {},
   "source": [
    "# Tema 03: Control de flujo (Enunciados)\n",
    "*Nota: Estos ejercicios son optativos para hacer al final de la unidad y están pensados para apoyar tu aprendizaje*."
   ]
  },
  {
   "cell_type": "markdown",
   "metadata": {},
   "source": [
    "**1) Realiza un programa que lea dos números por teclado y permita elegir entre 3 opciones en un menú:** \n",
    "* Mostrar una suma de los dos números\n",
    "* Mostrar una resta de los dos números (el primero menos el segundo)\n",
    "* Mostrar una multiplicación de los dos números\n",
    "* En caso de no introducir una opción válida, el programa informará de que no es correcta."
   ]
  },
  {
   "cell_type": "code",
   "execution_count": 16,
   "metadata": {
    "collapsed": false
   },
   "outputs": [
    {
     "name": "stdout",
     "output_type": "stream",
     "text": [
      "Escriba un número: 1\n",
      "Escriba otro número: 2\n",
      "Elija una opción:\n",
      "1) Sumar ambos números\n",
      "2) Restar ambos números\n",
      "3) Multiplicar ambos números\n",
      "Ha elegido la opción: akjdfñlakjf\n",
      "Opción no correcta.\n"
     ]
    }
   ],
   "source": [
    "# Completa el ejercicio aquí\n",
    "n1= float(input(\"Escriba un número: \"))\n",
    "n2= float(input(\"Escriba otro número: \"))\n",
    "print (\"\"\"Elija una opción:\n",
    "1) Sumar ambos números\n",
    "2) Restar ambos números\n",
    "3) Multiplicar ambos números\"\"\")\n",
    "choose = input(\"Ha elegido la opción: \")\n",
    "if choose == \"1\":\n",
    "    print (\"El total es:\", n1+n2)\n",
    "elif choose == \"2\":\n",
    "    print (\"El total es:\", n1-n2)\n",
    "elif choose == \"3\":\n",
    "    print (\"El total es:\", n1*n2)\n",
    "else:\n",
    "    print (\"Opción no correcta.\")"
   ]
  },
  {
   "cell_type": "markdown",
   "metadata": {},
   "source": [
    "**2) Realiza un programa que lea un número impar por teclado. Si el usuario no introduce un número impar, debe repetise el proceso hasta que lo introduzca correctamente.**"
   ]
  },
  {
   "cell_type": "code",
   "execution_count": 1,
   "metadata": {
    "collapsed": false
   },
   "outputs": [
    {
     "name": "stdout",
     "output_type": "stream",
     "text": [
      "Introduzca un número impar: 2\n",
      "Introduzca un número impar: 4\n",
      "Introduzca un número impar: 8\n",
      "Introduzca un número impar: 1\n"
     ]
    }
   ],
   "source": [
    "# Completa el ejercicio aquí\n",
    "n = 0\n",
    "while n % 2 == 0:\n",
    "    n = int(input(\"Introduzca un número impar: \"))"
   ]
  },
  {
   "cell_type": "markdown",
   "metadata": {},
   "source": [
    "**3) Realiza un programa que sume todos los números enteros pares desde el 0 hasta el 100:**\n",
    "\n",
    "*Sugerencia: Puedes utilizar la funciones sum() y range() para hacerlo más fácil. El tercer parámetro en la función range(inicio, fin, salto) indica un salto de números, pruébalo.*"
   ]
  },
  {
   "cell_type": "code",
   "execution_count": 1,
   "metadata": {
    "collapsed": false
   },
   "outputs": [
    {
     "name": "stdout",
     "output_type": "stream",
     "text": [
      "2550\n"
     ]
    }
   ],
   "source": [
    "# Completa el ejercicio aquí\n",
    "# Primer método\n",
    "#suma = sum(range(0,101,2))\n",
    "#print (suma)\n",
    "\n",
    "# Método tradicional\n",
    "n = 0\n",
    "suma = 0\n",
    "while n<=100:\n",
    "    if n%2 == 0:\n",
    "        suma = suma+n\n",
    "    n+=1    \n",
    "print (suma)"
   ]
  },
  {
   "cell_type": "markdown",
   "metadata": {},
   "source": [
    "**4) Realiza un programa que pida al usuario cuantos números quiere introducir. Luego lee todos los números y realiza una media aritmética:**\n"
   ]
  },
  {
   "cell_type": "code",
   "execution_count": 1,
   "metadata": {
    "collapsed": false
   },
   "outputs": [
    {
     "name": "stdout",
     "output_type": "stream",
     "text": [
      "¿Cuántos números desea introducir?:8\n",
      "5\n",
      "6\n",
      "7\n",
      "9\n",
      "7\n",
      "2\n",
      "3\n",
      "1\n",
      "La media aritmética es: 5.0\n"
     ]
    }
   ],
   "source": [
    "# Completa el ejercicio aquí\n",
    "n = int(input(\"¿Cuántos números desea introducir?:\"))\n",
    "m = n\n",
    "suma = 0\n",
    "while n>0:\n",
    "    i = float(input ())\n",
    "    suma = suma+i\n",
    "    n-=1\n",
    "print (\"La media aritmética es:\", suma/m)"
   ]
  },
  {
   "cell_type": "markdown",
   "metadata": {},
   "source": [
    "##### **5) Realiza un programa que pida al usuario un número entero del 0 al 9, y que mientras el número no sea correcto se repita el proceso. Luego debe comprobar si el número se encuentra en la lista de números y notificarlo:**\n",
    "\n",
    "*Consejo: La sintaxis \"valor in lista\" permite comprobar fácilmente si un valor se encuentra en una lista (devuelve True o False)*"
   ]
  },
  {
   "cell_type": "code",
   "execution_count": 3,
   "metadata": {
    "collapsed": false
   },
   "outputs": [
    {
     "name": "stdout",
     "output_type": "stream",
     "text": [
      "Introduzca un número entero entre 0 y 9: 2\n",
      "Introduzca un número entero entre 0 y 9: 10\n",
      "Introduzca un número entero entre 0 y 9: 50\n",
      "Introduzca un número entero entre 0 y 9: 1\n",
      "1 está en la lista.\n"
     ]
    }
   ],
   "source": [
    "# Completa el ejercicio aquí\n",
    "numeros = [1, 3, 6, 9]\n",
    "n = int(input(\"Introduzca un número entero entre 0 y 9: \"))\n",
    "while n not in numeros:\n",
    "    n = int(input(\"Introduzca un número entero entre 0 y 9: \"))\n",
    "else:\n",
    "    print (n,\"está en la lista.\")"
   ]
  },
  {
   "cell_type": "markdown",
   "metadata": {},
   "source": [
    "**6) Utilizando la función range() y la conversión a listas genera las siguientes listas dinámicamente:**\n",
    "* Todos los números del 0 al 10 [0, 1, 2, ..., 10]\n",
    "* Todos los números del -10 al 0 [-10, -9, -8, ..., 0]\n",
    "* Todos los números pares del 0 al 20 [0, 2, 4, ..., 20]\n",
    "* Todos los números impares entre -20 y 0 [-19, -17, -15, ..., -1]\n",
    "* Todos los números múltiples de 5 del 0 al 50 [0, 5, 10, ..., 50]\n",
    "\n",
    "*Pista: Utiliza el tercer parámetro de la función range(inicio, fin, salto).*"
   ]
  },
  {
   "cell_type": "code",
   "execution_count": 12,
   "metadata": {
    "collapsed": false
   },
   "outputs": [
    {
     "name": "stdout",
     "output_type": "stream",
     "text": [
      "[0, 1, 2, 3, 4, 5, 6, 7, 8, 9]\n",
      "[-10, -9, -8, -7, -6, -5, -4, -3, -2, -1, 0]\n",
      "[0, 2, 4, 6, 8, 10, 12, 14, 16, 18, 20]\n",
      "[-19, -17, -15, -13, -11, -9, -7, -5, -3, -1]\n",
      "[0, 5, 10, 15, 20, 25, 30, 35, 40, 45, 50]\n"
     ]
    }
   ],
   "source": [
    "# Completa el ejercicio\n",
    "# Todos los números del 0 al 10 [0, 1, 2, ..., 10]\n",
    "print (list (range (0,10)))\n",
    "# Todos los números del -10 al 0 [-10, -9, -8, ..., 0]\n",
    "print (list (range (-10,1)))\n",
    "# Todos los números pares del 0 al 20 [0, 2, 4, ..., 20]\n",
    "print (list (range (0,21,2)))\n",
    "# Todos los números impares entre -20 y 0 [-19, -17, -15, ..., -1]\n",
    "print (list (range (-19,1,2)))\n",
    "# Todos los números múltiples de 5 del 0 al 50 [0, 5, 10, ..., 50]\n",
    "print (list (range (0,51,5)))"
   ]
  },
  {
   "cell_type": "markdown",
   "metadata": {},
   "source": [
    "**7) Dadas dos listas, debes generar una tercera con todos los elementos que se repitan en ellas, pero no debe repetise ningún elemento en la nueva lista:**"
   ]
  },
  {
   "cell_type": "code",
   "execution_count": 21,
   "metadata": {
    "collapsed": false
   },
   "outputs": [
    {
     "name": "stdout",
     "output_type": "stream",
     "text": [
      "[3, 4]\n"
     ]
    }
   ],
   "source": [
    "# Completa el ejercicio aquí\n",
    "lista1=[1,3,4,7,9]\n",
    "lista2=[3,3,4,2]\n",
    "listaF=[]\n",
    "firstTime =True\n",
    "\n",
    "for valor1 in lista1:\n",
    "    if valor1 in lista2:\n",
    "        if firstTime:\n",
    "            firstTime = False\n",
    "            listaF.append (valor1)\n",
    "        elif valor1 not in listaF:\n",
    "            listaF.append (valor1)\n",
    "print (listaF)\n",
    "\n",
    "# if a in b:\n",
    "# array.append (a)"
   ]
  },
  {
   "cell_type": "code",
   "execution_count": null,
   "metadata": {
    "collapsed": true
   },
   "outputs": [],
   "source": []
  }
 ],
 "metadata": {
  "anaconda-cloud": {},
  "kernelspec": {
   "display_name": "Python 3",
   "language": "python",
   "name": "python3"
  },
  "language_info": {
   "codemirror_mode": {
    "name": "ipython",
    "version": 3
   },
   "file_extension": ".py",
   "mimetype": "text/x-python",
   "name": "python",
   "nbconvert_exporter": "python",
   "pygments_lexer": "ipython3",
   "version": "3.6.0"
  }
 },
 "nbformat": 4,
 "nbformat_minor": 0
}
